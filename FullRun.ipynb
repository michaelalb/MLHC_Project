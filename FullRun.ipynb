{
 "cells": [
  {
   "cell_type": "markdown",
   "metadata": {
    "collapsed": true,
    "pycharm": {
     "name": "#%% md\n"
    }
   },
   "source": [
    "# Notebook to show the full flow of our code from data exploration to model evaluation"
   ]
  },
  {
   "cell_type": "code",
   "execution_count": null,
   "outputs": [],
   "source": [
    "from DataExploration import DataExplorer\n",
    "from pathlib import Path\n",
    "from datetime import datetime\n",
    "from DataLoader import DataLoader\n",
    "from darts.models import TFTModel\n",
    "from darts.utils.likelihood_models import QuantileRegression\n",
    "from ModelEvaluator import evaluate_model\n",
    "from ResultsEvaluator import evaluate_results\n",
    "import logging\n",
    "import warnings\n",
    "warnings.filterwarnings(\"ignore\")\n",
    "logging.disable(logging.CRITICAL)\n",
    "quantiles_sparse = [0.01, 0.05, 0.1, 0.15, 0.2, 0.25, 0.3, 0.4, 0.5, 0.6, 0.7, 0.75, 0.8, 0.85, 0.9, 0.95, 0.99]\n",
    "quantiles_full = [num / 100.0 for num in range(1, 100)]"
   ],
   "metadata": {
    "collapsed": false,
    "pycharm": {
     "name": "#%%\n"
    }
   }
  },
  {
   "cell_type": "markdown",
   "source": [
    "## Data exploration\n"
   ],
   "metadata": {
    "collapsed": false,
    "pycharm": {
     "name": "#%% md\n"
    }
   }
  },
  {
   "cell_type": "code",
   "execution_count": null,
   "outputs": [],
   "source": [
    "data_explorer = DataExplorer(Path('Data/full_data.parquet'), should_show_plots=True)\n",
    "data_explorer.plot_feature_counts('../Figures/')\n",
    "data_explorer.plot_patient_gender_count_by_age('../Figures/')\n",
    "data_explorer.plot_feature_distributions_by_age_gender('../Figures/AgeGenderDists')\n",
    "data_explorer.plot_feature_distributions('../Figures/FeatureDists')\n",
    "data_explorer.plot_feature_distributions('../Figures/FeatureDists', type='hist')"
   ],
   "metadata": {
    "collapsed": false,
    "pycharm": {
     "name": "#%%\n"
    }
   }
  },
  {
   "cell_type": "markdown",
   "source": [
    "## Data loading and preparation"
   ],
   "metadata": {
    "collapsed": false,
    "pycharm": {
     "name": "#%% md\n"
    }
   }
  },
  {
   "cell_type": "code",
   "execution_count": null,
   "outputs": [],
   "source": [
    "model_version = 3\n",
    "data_loader = DataLoader()\n",
    "train_label_ts, train_cov_ts, test_label_ts, test_cov_ts = data_loader.load_data_for_training()\n",
    "base_model_name = f\"model_V{model_version}_{datetime.now().strftime('%Y_%m_%d_%H_%M_%S')}\"\n",
    "base_data_path = Path(\"./Data/ModelTrainingData/\")\n",
    "base_data_path.mkdir(parents=True, exist_ok=True)\n",
    "data_loader.save_split_data(train_label_ts, train_cov_ts, test_label_ts, test_cov_ts,\n",
    "                            base_path=str(base_data_path),\n",
    "                            prefix_name=base_model_name)"
   ],
   "metadata": {
    "collapsed": false,
    "pycharm": {
     "name": "#%%\n"
    }
   }
  },
  {
   "cell_type": "markdown",
   "source": [
    "## Define and train the model"
   ],
   "metadata": {
    "collapsed": false,
    "pycharm": {
     "name": "#%% md\n"
    }
   }
  },
  {
   "cell_type": "code",
   "execution_count": null,
   "outputs": [],
   "source": [
    "# define tunable parameter - rest of parameters have already been optimized.\n",
    "input_chunk_length = 1\n",
    "forecast_horizon = 1\n",
    "epochs = 1\n",
    "\n",
    "work_dir = './Models/'\n",
    "my_model = TFTModel(\n",
    "    input_chunk_length=input_chunk_length,\n",
    "    output_chunk_length=forecast_horizon,\n",
    "    hidden_size=64,\n",
    "    lstm_layers=1,\n",
    "    num_attention_heads=4,\n",
    "    dropout=0.1,\n",
    "    batch_size=16,\n",
    "    n_epochs=epochs,\n",
    "    work_dir=work_dir,\n",
    "    add_relative_index=False,\n",
    "    add_encoders=None,\n",
    "    save_checkpoints=True,\n",
    "    likelihood=QuantileRegression(quantiles=quantiles_full),\n",
    "    # pl_trainer_kwargs={\"accelerator\": \"gpu\", \"devices\": 1}, # Used on cluster\n",
    "    random_state=42,\n",
    ")\n",
    "# train the model\n",
    "my_model.fit(series=train_label_ts, past_covariates=train_cov_ts, future_covariates=train_cov_ts, verbose=True)"
   ],
   "metadata": {
    "collapsed": false,
    "pycharm": {
     "name": "#%%\n"
    }
   }
  },
  {
   "cell_type": "markdown",
   "source": [
    "## Save the trained model"
   ],
   "metadata": {
    "collapsed": false,
    "pycharm": {
     "name": "#%% md\n"
    }
   }
  },
  {
   "cell_type": "code",
   "execution_count": null,
   "outputs": [],
   "source": [
    "# save two versions of the model - assumes training happens on a GPU\n",
    "my_model.save(work_dir + f\"{base_model_name}.pt\")\n",
    "my_model.to_cpu()\n",
    "my_model.save(work_dir + f\"{base_model_name}_CPU.pt\")"
   ],
   "metadata": {
    "collapsed": false,
    "pycharm": {
     "name": "#%%\n"
    }
   }
  },
  {
   "cell_type": "markdown",
   "source": [
    "## Evaluate the results using official challenge code"
   ],
   "metadata": {
    "collapsed": false,
    "pycharm": {
     "name": "#%% md\n"
    }
   }
  },
  {
   "cell_type": "code",
   "execution_count": null,
   "outputs": [],
   "source": [
    "model_name = 'model_V3_CPU_2023_08_27_15_24_22.pt'\n",
    "evaluate_model(model_name=model_name,\n",
    "               train_test_data_pickle_file_name=\"ffill_ts_train_test.pkl\",\n",
    "               evaluation_results_output_path=f\"./{model_name}_ts_train_test_results.pkl\",\n",
    "               results_file=\"./ffill_ts_train_test_results.pkl\")"
   ],
   "metadata": {
    "collapsed": false,
    "pycharm": {
     "name": "#%%\n"
    }
   }
  },
  {
   "cell_type": "markdown",
   "source": [
    "## Evaluate the results looking for biases"
   ],
   "metadata": {
    "collapsed": false,
    "pycharm": {
     "name": "#%% md\n"
    }
   }
  },
  {
   "cell_type": "code",
   "execution_count": null,
   "outputs": [],
   "source": [
    "evaluate_results(f\"./ResultsEvaluation/{model_name}_ts_train_test_results.pkl\",\n",
    "                 f\"./ResultsEvaluation/{model_name}_ts_train_test_results\",\n",
    "                 f\"./ResultsEvaluation/{model_name}_ts_train_test_results.csv\")"
   ],
   "metadata": {
    "collapsed": false,
    "pycharm": {
     "name": "#%%\n"
    }
   }
  }
 ],
 "metadata": {
  "kernelspec": {
   "display_name": "Python 3",
   "language": "python",
   "name": "python3"
  },
  "language_info": {
   "codemirror_mode": {
    "name": "ipython",
    "version": 2
   },
   "file_extension": ".py",
   "mimetype": "text/x-python",
   "name": "python",
   "nbconvert_exporter": "python",
   "pygments_lexer": "ipython2",
   "version": "2.7.6"
  }
 },
 "nbformat": 4,
 "nbformat_minor": 0
}